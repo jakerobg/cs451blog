{
 "cells": [
  {
   "cell_type": "raw",
   "metadata": {
    "vscode": {
     "languageId": "raw"
    }
   },
   "source": [
    "---\n",
    "title: Optimal Decision-making\n",
    "author: Jake Gilbert\n",
    "date: '2024-05-10'\n",
    "image: \"image.jpg\"\n",
    "description: \"Implement a classifcation system that maximises bank rofit and finds the optimal threshold for credit access\"\n",
    "format: html\n",
    "---"
   ]
  },
  {
   "cell_type": "markdown",
   "metadata": {},
   "source": [
    "# Abstract\n",
    "\n",
    "In this blog post, I implemented a classification system based on loans that finds an optimal profit for a bank. But through this exploration, I also visualize how these systems can affect the borrower negatively and how it touches on the issues of fairness. How do we balance efficient and \"optimal\" systems that benefit the institutions in power, but also understand how they can perpetuate oppression and unfairness? By using Logistic Regression and finding the best features to train on, I was able to find the ideal threshold for the probability of repayment, which determines which borrowers have access to credit. Once finding the optimal weight and threshold, I see the implications of this threshold both on the banks and the borrowers, and how from differing perspectives, the same outcomes can have completely different meanings of fairness. I was able to find that the optimal threshold score is 0.53, and that the bank's optimal profit is $32,368,726."
   ]
  },
  {
   "cell_type": "markdown",
   "metadata": {},
   "source": [
    "# Grabbing and exploring the data\n",
    "\n",
    "First I need to download the training data:"
   ]
  },
  {
   "cell_type": "code",
   "execution_count": 2,
   "metadata": {},
   "outputs": [],
   "source": [
    "import pandas as pd\n",
    "import seaborn as sns\n",
    "import matplotlib.pyplot as plt\n",
    "import numpy as np\n",
    "from itertools import combinations\n",
    "from sklearn.linear_model import LogisticRegression\n",
    "from sklearn.model_selection import cross_val_score\n",
    "from sklearn.preprocessing import LabelEncoder\n",
    "url = \"https://raw.githubusercontent.com/PhilChodrow/ml-notes/main/data/credit-risk/train.csv\"\n",
    "df_train = pd.read_csv(url)"
   ]
  },
  {
   "cell_type": "code",
   "execution_count": 3,
   "metadata": {},
   "outputs": [
    {
     "data": {
      "text/html": [
       "<div>\n",
       "<style scoped>\n",
       "    .dataframe tbody tr th:only-of-type {\n",
       "        vertical-align: middle;\n",
       "    }\n",
       "\n",
       "    .dataframe tbody tr th {\n",
       "        vertical-align: top;\n",
       "    }\n",
       "\n",
       "    .dataframe thead th {\n",
       "        text-align: right;\n",
       "    }\n",
       "</style>\n",
       "<table border=\"1\" class=\"dataframe\">\n",
       "  <thead>\n",
       "    <tr style=\"text-align: right;\">\n",
       "      <th></th>\n",
       "      <th>person_age</th>\n",
       "      <th>person_income</th>\n",
       "      <th>person_home_ownership</th>\n",
       "      <th>person_emp_length</th>\n",
       "      <th>loan_intent</th>\n",
       "      <th>loan_grade</th>\n",
       "      <th>loan_amnt</th>\n",
       "      <th>loan_int_rate</th>\n",
       "      <th>loan_status</th>\n",
       "      <th>loan_percent_income</th>\n",
       "      <th>cb_person_default_on_file</th>\n",
       "      <th>cb_person_cred_hist_length</th>\n",
       "    </tr>\n",
       "  </thead>\n",
       "  <tbody>\n",
       "    <tr>\n",
       "      <th>0</th>\n",
       "      <td>25</td>\n",
       "      <td>43200</td>\n",
       "      <td>RENT</td>\n",
       "      <td>NaN</td>\n",
       "      <td>VENTURE</td>\n",
       "      <td>B</td>\n",
       "      <td>1200</td>\n",
       "      <td>9.91</td>\n",
       "      <td>0</td>\n",
       "      <td>0.03</td>\n",
       "      <td>N</td>\n",
       "      <td>4</td>\n",
       "    </tr>\n",
       "    <tr>\n",
       "      <th>1</th>\n",
       "      <td>27</td>\n",
       "      <td>98000</td>\n",
       "      <td>RENT</td>\n",
       "      <td>3.0</td>\n",
       "      <td>EDUCATION</td>\n",
       "      <td>C</td>\n",
       "      <td>11750</td>\n",
       "      <td>13.47</td>\n",
       "      <td>0</td>\n",
       "      <td>0.12</td>\n",
       "      <td>Y</td>\n",
       "      <td>6</td>\n",
       "    </tr>\n",
       "    <tr>\n",
       "      <th>2</th>\n",
       "      <td>22</td>\n",
       "      <td>36996</td>\n",
       "      <td>RENT</td>\n",
       "      <td>5.0</td>\n",
       "      <td>EDUCATION</td>\n",
       "      <td>A</td>\n",
       "      <td>10000</td>\n",
       "      <td>7.51</td>\n",
       "      <td>0</td>\n",
       "      <td>0.27</td>\n",
       "      <td>N</td>\n",
       "      <td>4</td>\n",
       "    </tr>\n",
       "    <tr>\n",
       "      <th>3</th>\n",
       "      <td>24</td>\n",
       "      <td>26000</td>\n",
       "      <td>RENT</td>\n",
       "      <td>2.0</td>\n",
       "      <td>MEDICAL</td>\n",
       "      <td>C</td>\n",
       "      <td>1325</td>\n",
       "      <td>12.87</td>\n",
       "      <td>1</td>\n",
       "      <td>0.05</td>\n",
       "      <td>N</td>\n",
       "      <td>4</td>\n",
       "    </tr>\n",
       "    <tr>\n",
       "      <th>4</th>\n",
       "      <td>29</td>\n",
       "      <td>53004</td>\n",
       "      <td>MORTGAGE</td>\n",
       "      <td>2.0</td>\n",
       "      <td>HOMEIMPROVEMENT</td>\n",
       "      <td>A</td>\n",
       "      <td>15000</td>\n",
       "      <td>9.63</td>\n",
       "      <td>0</td>\n",
       "      <td>0.28</td>\n",
       "      <td>N</td>\n",
       "      <td>10</td>\n",
       "    </tr>\n",
       "    <tr>\n",
       "      <th>...</th>\n",
       "      <td>...</td>\n",
       "      <td>...</td>\n",
       "      <td>...</td>\n",
       "      <td>...</td>\n",
       "      <td>...</td>\n",
       "      <td>...</td>\n",
       "      <td>...</td>\n",
       "      <td>...</td>\n",
       "      <td>...</td>\n",
       "      <td>...</td>\n",
       "      <td>...</td>\n",
       "      <td>...</td>\n",
       "    </tr>\n",
       "    <tr>\n",
       "      <th>26059</th>\n",
       "      <td>36</td>\n",
       "      <td>150000</td>\n",
       "      <td>MORTGAGE</td>\n",
       "      <td>8.0</td>\n",
       "      <td>EDUCATION</td>\n",
       "      <td>A</td>\n",
       "      <td>3000</td>\n",
       "      <td>7.29</td>\n",
       "      <td>0</td>\n",
       "      <td>0.02</td>\n",
       "      <td>N</td>\n",
       "      <td>17</td>\n",
       "    </tr>\n",
       "    <tr>\n",
       "      <th>26060</th>\n",
       "      <td>23</td>\n",
       "      <td>48000</td>\n",
       "      <td>RENT</td>\n",
       "      <td>1.0</td>\n",
       "      <td>VENTURE</td>\n",
       "      <td>A</td>\n",
       "      <td>4325</td>\n",
       "      <td>5.42</td>\n",
       "      <td>0</td>\n",
       "      <td>0.09</td>\n",
       "      <td>N</td>\n",
       "      <td>4</td>\n",
       "    </tr>\n",
       "    <tr>\n",
       "      <th>26061</th>\n",
       "      <td>22</td>\n",
       "      <td>60000</td>\n",
       "      <td>RENT</td>\n",
       "      <td>0.0</td>\n",
       "      <td>MEDICAL</td>\n",
       "      <td>B</td>\n",
       "      <td>15000</td>\n",
       "      <td>11.71</td>\n",
       "      <td>0</td>\n",
       "      <td>0.25</td>\n",
       "      <td>N</td>\n",
       "      <td>4</td>\n",
       "    </tr>\n",
       "    <tr>\n",
       "      <th>26062</th>\n",
       "      <td>30</td>\n",
       "      <td>144000</td>\n",
       "      <td>MORTGAGE</td>\n",
       "      <td>12.0</td>\n",
       "      <td>PERSONAL</td>\n",
       "      <td>C</td>\n",
       "      <td>35000</td>\n",
       "      <td>12.68</td>\n",
       "      <td>0</td>\n",
       "      <td>0.24</td>\n",
       "      <td>N</td>\n",
       "      <td>8</td>\n",
       "    </tr>\n",
       "    <tr>\n",
       "      <th>26063</th>\n",
       "      <td>25</td>\n",
       "      <td>60000</td>\n",
       "      <td>RENT</td>\n",
       "      <td>5.0</td>\n",
       "      <td>EDUCATION</td>\n",
       "      <td>A</td>\n",
       "      <td>21450</td>\n",
       "      <td>7.29</td>\n",
       "      <td>1</td>\n",
       "      <td>0.36</td>\n",
       "      <td>N</td>\n",
       "      <td>4</td>\n",
       "    </tr>\n",
       "  </tbody>\n",
       "</table>\n",
       "<p>26064 rows × 12 columns</p>\n",
       "</div>"
      ],
      "text/plain": [
       "       person_age  person_income person_home_ownership  person_emp_length  \\\n",
       "0              25          43200                  RENT                NaN   \n",
       "1              27          98000                  RENT                3.0   \n",
       "2              22          36996                  RENT                5.0   \n",
       "3              24          26000                  RENT                2.0   \n",
       "4              29          53004              MORTGAGE                2.0   \n",
       "...           ...            ...                   ...                ...   \n",
       "26059          36         150000              MORTGAGE                8.0   \n",
       "26060          23          48000                  RENT                1.0   \n",
       "26061          22          60000                  RENT                0.0   \n",
       "26062          30         144000              MORTGAGE               12.0   \n",
       "26063          25          60000                  RENT                5.0   \n",
       "\n",
       "           loan_intent loan_grade  loan_amnt  loan_int_rate  loan_status  \\\n",
       "0              VENTURE          B       1200           9.91            0   \n",
       "1            EDUCATION          C      11750          13.47            0   \n",
       "2            EDUCATION          A      10000           7.51            0   \n",
       "3              MEDICAL          C       1325          12.87            1   \n",
       "4      HOMEIMPROVEMENT          A      15000           9.63            0   \n",
       "...                ...        ...        ...            ...          ...   \n",
       "26059        EDUCATION          A       3000           7.29            0   \n",
       "26060          VENTURE          A       4325           5.42            0   \n",
       "26061          MEDICAL          B      15000          11.71            0   \n",
       "26062         PERSONAL          C      35000          12.68            0   \n",
       "26063        EDUCATION          A      21450           7.29            1   \n",
       "\n",
       "       loan_percent_income cb_person_default_on_file  \\\n",
       "0                     0.03                         N   \n",
       "1                     0.12                         Y   \n",
       "2                     0.27                         N   \n",
       "3                     0.05                         N   \n",
       "4                     0.28                         N   \n",
       "...                    ...                       ...   \n",
       "26059                 0.02                         N   \n",
       "26060                 0.09                         N   \n",
       "26061                 0.25                         N   \n",
       "26062                 0.24                         N   \n",
       "26063                 0.36                         N   \n",
       "\n",
       "       cb_person_cred_hist_length  \n",
       "0                               4  \n",
       "1                               6  \n",
       "2                               4  \n",
       "3                               4  \n",
       "4                              10  \n",
       "...                           ...  \n",
       "26059                          17  \n",
       "26060                           4  \n",
       "26061                           4  \n",
       "26062                           8  \n",
       "26063                           4  \n",
       "\n",
       "[26064 rows x 12 columns]"
      ]
     },
     "execution_count": 3,
     "metadata": {},
     "output_type": "execute_result"
    }
   ],
   "source": [
    "df_train"
   ]
  },
  {
   "cell_type": "markdown",
   "metadata": {},
   "source": [
    "We can start exploring the data. Let's look at how the home ownership type is broken down with the different types of loans for housing:"
   ]
  },
  {
   "cell_type": "code",
   "execution_count": 78,
   "metadata": {},
   "outputs": [
    {
     "data": {
      "text/html": [
       "<div>\n",
       "<style scoped>\n",
       "    .dataframe tbody tr th:only-of-type {\n",
       "        vertical-align: middle;\n",
       "    }\n",
       "\n",
       "    .dataframe tbody tr th {\n",
       "        vertical-align: top;\n",
       "    }\n",
       "\n",
       "    .dataframe thead th {\n",
       "        text-align: right;\n",
       "    }\n",
       "</style>\n",
       "<table border=\"1\" class=\"dataframe\">\n",
       "  <thead>\n",
       "    <tr style=\"text-align: right;\">\n",
       "      <th></th>\n",
       "      <th>Loan_Average</th>\n",
       "    </tr>\n",
       "    <tr>\n",
       "      <th>person_home_ownership</th>\n",
       "      <th></th>\n",
       "    </tr>\n",
       "  </thead>\n",
       "  <tbody>\n",
       "    <tr>\n",
       "      <th>MORTGAGE</th>\n",
       "      <td>0.151560</td>\n",
       "    </tr>\n",
       "    <tr>\n",
       "      <th>OTHER</th>\n",
       "      <td>0.194432</td>\n",
       "    </tr>\n",
       "    <tr>\n",
       "      <th>OWN</th>\n",
       "      <td>0.188800</td>\n",
       "    </tr>\n",
       "    <tr>\n",
       "      <th>RENT</th>\n",
       "      <td>0.181819</td>\n",
       "    </tr>\n",
       "  </tbody>\n",
       "</table>\n",
       "</div>"
      ],
      "text/plain": [
       "                       Loan_Average\n",
       "person_home_ownership              \n",
       "MORTGAGE                   0.151560\n",
       "OTHER                      0.194432\n",
       "OWN                        0.188800\n",
       "RENT                       0.181819"
      ]
     },
     "execution_count": 78,
     "metadata": {},
     "output_type": "execute_result"
    }
   ],
   "source": [
    "summaryTable = df_train.groupby(['person_home_ownership']).aggregate(Loan_Average =('loan_percent_income', 'mean'))\n",
    "summaryTable"
   ]
  },
  {
   "cell_type": "markdown",
   "metadata": {},
   "source": [
    "It seems like the loan percentage is lowest for mortgages. Those who already have a mortgage or own houses are more likely to need less as a percentage of their total wealth for loans and have more security in their wealth.\n",
    "\n",
    "We can also visualize this data:"
   ]
  },
  {
   "cell_type": "code",
   "execution_count": 5,
   "metadata": {},
   "outputs": [
    {
     "data": {
      "text/plain": [
       "<Axes: xlabel='person_home_ownership', ylabel='loan_percent_income'>"
      ]
     },
     "execution_count": 5,
     "metadata": {},
     "output_type": "execute_result"
    },
    {
     "data": {
      "image/png": "[encoded data removed]",
      "text/plain": [
       "<Figure size 640x480 with 1 Axes>"
      ]
     },
     "metadata": {},
     "output_type": "display_data"
    }
   ],
   "source": [
    "\n",
    "# plot\n",
    "sns.boxplot(df_train, x='person_home_ownership', y='loan_percent_income')"
   ]
  },
  {
   "cell_type": "markdown",
   "metadata": {},
   "source": [
    "Interestingly, the boxplot shows us that generally those who already own property will take loans as more of a percentage of their income. Interestingly, the mortgages has less percentage of income to go towards loans. If someone is already willing to spend money on a mortgage, they have more income to spare.\n",
    "\n",
    "We can also look at age and see whether or not the bank determines if the loan is likely to be repaid depending on this factor. First we can copy our data and create quartiles of ages ."
   ]
  },
  {
   "cell_type": "code",
   "execution_count": 6,
   "metadata": {},
   "outputs": [
    {
     "name": "stderr",
     "output_type": "stream",
     "text": [
      "/Users/jakegilbert/anaconda3/envs/ml-0451/lib/python3.9/site-packages/seaborn/categorical.py:641: FutureWarning: The default of observed=False is deprecated and will be changed to True in a future version of pandas. Pass observed=False to retain current behavior or observed=True to adopt the future default and silence this warning.\n",
      "  grouped_vals = vals.groupby(grouper)\n"
     ]
    },
    {
     "data": {
      "text/plain": [
       "<Axes: xlabel='age_quartile', ylabel='loan_amnt'>"
      ]
     },
     "execution_count": 6,
     "metadata": {},
     "output_type": "execute_result"
    },
    {
     "data": {
      "image/png": "[encoded data removed]",
      "text/plain": [
       "<Figure size 640x480 with 1 Axes>"
      ]
     },
     "metadata": {},
     "output_type": "display_data"
    }
   ],
   "source": [
    "df_age_c = df_train.copy()\n",
    "\n",
    "quartiles = df_age_c['person_age'].quantile([0.25, 0.5, 0.75])\n",
    "q1 = f\"{df_age_c['person_age'].min()} to {quartiles[0.25]}\"\n",
    "q2 = f\"{quartiles[0.25]} to {quartiles[0.50]}\"\n",
    "q3 = f\"{quartiles[0.50]} to {quartiles[0.75]}\"\n",
    "q4 = f\"{quartiles[0.75]} to {df_age_c['person_age'].max()}\"\n",
    "df_age_c['age_quartile'] = pd.qcut(df_train['person_age'], q = [0, 0.25, 0.5, 0.75, 1], labels = [q1, q2, q3, q4])\n",
    "\n",
    "# now we can plot\n",
    "sns.boxplot(df_age_c, x='age_quartile', y='loan_amnt')"
   ]
  },
  {
   "cell_type": "markdown",
   "metadata": {},
   "source": [
    "While there is not much change in the ages of how much income you spend on loans, maybe a better metric is to see the time spend employed to how much one is willing to spend loans as a percentage of their income. We will do the same quartile method:"
   ]
  },
  {
   "cell_type": "code",
   "execution_count": 8,
   "metadata": {},
   "outputs": [
    {
     "name": "stderr",
     "output_type": "stream",
     "text": [
      "/Users/jakegilbert/anaconda3/envs/ml-0451/lib/python3.9/site-packages/seaborn/categorical.py:641: FutureWarning: The default of observed=False is deprecated and will be changed to True in a future version of pandas. Pass observed=False to retain current behavior or observed=True to adopt the future default and silence this warning.\n",
      "  grouped_vals = vals.groupby(grouper)\n"
     ]
    },
    {
     "data": {
      "text/plain": [
       "<Axes: xlabel='employment_length_quartile', ylabel='loan_amnt'>"
      ]
     },
     "execution_count": 8,
     "metadata": {},
     "output_type": "execute_result"
    },
    {
     "data": {
      "image/png": "[encoded data removed]",
      "text/plain": [
       "<Figure size 640x480 with 1 Axes>"
      ]
     },
     "metadata": {},
     "output_type": "display_data"
    }
   ],
   "source": [
    "df_train_emp = df_train.copy()\n",
    "\n",
    "quartiles = df_train_emp['person_emp_length'].quantile([0.25, 0.5, 0.75])\n",
    "q1 = f\"{df_train_emp['person_emp_length'].min()} to {quartiles[0.25]}\"\n",
    "q2 = f\"{quartiles[0.25]} to {quartiles[0.50]}\"\n",
    "q3 = f\"{quartiles[0.50]} to {quartiles[0.75]}\"\n",
    "q4 = f\"{quartiles[0.75]} to {df_train_emp['person_emp_length'].max()}\"\n",
    "df_train_emp['employment_length_quartile'] = pd.qcut(df_train_emp['person_emp_length'], q = [0, 0.25, 0.5, 0.75, 1], labels = [q1, q2, q3, q4])\n",
    "\n",
    "sns.boxplot(df_train_emp, x='employment_length_quartile', y='loan_amnt')\n"
   ]
  },
  {
   "cell_type": "markdown",
   "metadata": {},
   "source": [
    "From this boxplot, we can see that people that have been working for longer are more willing to take more money out in loans. The change is gradual, but there is a large difference between the two ranges, meaning the data deals with a wide range of circumstances."
   ]
  },
  {
   "cell_type": "markdown",
   "metadata": {},
   "source": [
    "# Building the Model\n",
    "\n",
    "We will implement Logistic Regression and use cross validation to determine the 5 best features and prevent overfitting.\n",
    "\n",
    "We also want to use a labelEncoder to label non-numeric data as numeric values so it can be fit with Logistic Regression. I also need to drop NA values"
   ]
  },
  {
   "cell_type": "code",
   "execution_count": 10,
   "metadata": {},
   "outputs": [
    {
     "data": {
      "text/html": [
       "<div>\n",
       "<style scoped>\n",
       "    .dataframe tbody tr th:only-of-type {\n",
       "        vertical-align: middle;\n",
       "    }\n",
       "\n",
       "    .dataframe tbody tr th {\n",
       "        vertical-align: top;\n",
       "    }\n",
       "\n",
       "    .dataframe thead th {\n",
       "        text-align: right;\n",
       "    }\n",
       "</style>\n",
       "<table border=\"1\" class=\"dataframe\">\n",
       "  <thead>\n",
       "    <tr style=\"text-align: right;\">\n",
       "      <th></th>\n",
       "      <th>person_age</th>\n",
       "      <th>person_income</th>\n",
       "      <th>person_home_ownership</th>\n",
       "      <th>person_emp_length</th>\n",
       "      <th>loan_intent</th>\n",
       "      <th>loan_amnt</th>\n",
       "      <th>loan_int_rate</th>\n",
       "      <th>loan_status</th>\n",
       "      <th>loan_percent_income</th>\n",
       "      <th>cb_person_default_on_file</th>\n",
       "      <th>cb_person_cred_hist_length</th>\n",
       "    </tr>\n",
       "  </thead>\n",
       "  <tbody>\n",
       "    <tr>\n",
       "      <th>1</th>\n",
       "      <td>27</td>\n",
       "      <td>98000</td>\n",
       "      <td>3</td>\n",
       "      <td>3</td>\n",
       "      <td>1</td>\n",
       "      <td>11750</td>\n",
       "      <td>13.47</td>\n",
       "      <td>0</td>\n",
       "      <td>0.12</td>\n",
       "      <td>1</td>\n",
       "      <td>6</td>\n",
       "    </tr>\n",
       "    <tr>\n",
       "      <th>2</th>\n",
       "      <td>22</td>\n",
       "      <td>36996</td>\n",
       "      <td>3</td>\n",
       "      <td>5</td>\n",
       "      <td>1</td>\n",
       "      <td>10000</td>\n",
       "      <td>7.51</td>\n",
       "      <td>0</td>\n",
       "      <td>0.27</td>\n",
       "      <td>0</td>\n",
       "      <td>4</td>\n",
       "    </tr>\n",
       "    <tr>\n",
       "      <th>3</th>\n",
       "      <td>24</td>\n",
       "      <td>26000</td>\n",
       "      <td>3</td>\n",
       "      <td>2</td>\n",
       "      <td>3</td>\n",
       "      <td>1325</td>\n",
       "      <td>12.87</td>\n",
       "      <td>1</td>\n",
       "      <td>0.05</td>\n",
       "      <td>0</td>\n",
       "      <td>4</td>\n",
       "    </tr>\n",
       "    <tr>\n",
       "      <th>4</th>\n",
       "      <td>29</td>\n",
       "      <td>53004</td>\n",
       "      <td>0</td>\n",
       "      <td>2</td>\n",
       "      <td>2</td>\n",
       "      <td>15000</td>\n",
       "      <td>9.63</td>\n",
       "      <td>0</td>\n",
       "      <td>0.28</td>\n",
       "      <td>0</td>\n",
       "      <td>10</td>\n",
       "    </tr>\n",
       "    <tr>\n",
       "      <th>6</th>\n",
       "      <td>21</td>\n",
       "      <td>21700</td>\n",
       "      <td>3</td>\n",
       "      <td>2</td>\n",
       "      <td>2</td>\n",
       "      <td>5500</td>\n",
       "      <td>14.91</td>\n",
       "      <td>1</td>\n",
       "      <td>0.25</td>\n",
       "      <td>0</td>\n",
       "      <td>2</td>\n",
       "    </tr>\n",
       "  </tbody>\n",
       "</table>\n",
       "</div>"
      ],
      "text/plain": [
       "   person_age  person_income  person_home_ownership  person_emp_length  \\\n",
       "1          27          98000                      3                  3   \n",
       "2          22          36996                      3                  5   \n",
       "3          24          26000                      3                  2   \n",
       "4          29          53004                      0                  2   \n",
       "6          21          21700                      3                  2   \n",
       "\n",
       "   loan_intent  loan_amnt  loan_int_rate  loan_status  loan_percent_income  \\\n",
       "1            1      11750          13.47            0                 0.12   \n",
       "2            1      10000           7.51            0                 0.27   \n",
       "3            3       1325          12.87            1                 0.05   \n",
       "4            2      15000           9.63            0                 0.28   \n",
       "6            2       5500          14.91            1                 0.25   \n",
       "\n",
       "   cb_person_default_on_file  cb_person_cred_hist_length  \n",
       "1                          1                           6  \n",
       "2                          0                           4  \n",
       "3                          0                           4  \n",
       "4                          0                          10  \n",
       "6                          0                           2  "
      ]
     },
     "execution_count": 10,
     "metadata": {},
     "output_type": "execute_result"
    }
   ],
   "source": [
    "df_LR = df_train.copy()\n",
    "df_LR.drop(columns = 'loan_grade', inplace = True)\n",
    "\n",
    "# Also get rid of outlier in age feature\n",
    "df_LR = df_LR[df_LR['person_age'] != 144]\n",
    "\n",
    "# getting all columns (features)\n",
    "df_LR = df_LR[list(df_LR.columns)]\n",
    "\n",
    "\n",
    "# Need to encode features that are not numeric\n",
    "# home_ownership, loan_intent, default_on_file\n",
    "\n",
    "encoder = LabelEncoder()\n",
    "\n",
    "encoder.fit(df_LR['person_home_ownership'])\n",
    "df_LR['person_home_ownership'] = encoder.transform(df_LR['person_home_ownership'])\n",
    "\n",
    "encoder.fit(df_LR['loan_intent'])\n",
    "df_LR['loan_intent'] = encoder.transform(df_LR['loan_intent'])\n",
    "\n",
    "encoder.fit(df_LR['cb_person_default_on_file'])\n",
    "df_LR['cb_person_default_on_file'] = encoder.transform(df_LR['cb_person_default_on_file'])\n",
    "\n",
    "df_LR = df_LR.dropna()\n",
    "df_LR['person_emp_length'] = df_LR['person_emp_length'].astype(int)\n",
    "\n",
    "df_LR.head()\n"
   ]
  },
  {
   "cell_type": "markdown",
   "metadata": {},
   "source": [
    "Now with our cleaned up data, I want to find the combination of the 5 best features by calculating the score:"
   ]
  },
  {
   "cell_type": "code",
   "execution_count": 11,
   "metadata": {},
   "outputs": [],
   "source": [
    "# train model based on five columns and choose best one\n",
    "bestScore = 0\n",
    "BestFeatures = []\n",
    "\n",
    "#Get all columns and remove target\n",
    "columns = list(df_LR.columns)\n",
    "columns.remove('loan_status')\n",
    "\n",
    "for feat in combinations(columns, 5):\n",
    "    \n",
    "    features = list(feat)\n",
    "\n",
    "    LR = LogisticRegression(max_iter=2000)\n",
    "\n",
    "    LR.fit(df_LR[features], df_LR['loan_status'])\n",
    "\n",
    "    score = LR.score(df_LR[features], df_LR['loan_status'])\n",
    "\n",
    "    if score > bestScore:\n",
    "      bestScore = score\n",
    "      BestFeatures = features"
   ]
  },
  {
   "cell_type": "markdown",
   "metadata": {},
   "source": [
    "Now we can see which combination of 5 features gives us the best score for Linear Regression:"
   ]
  },
  {
   "cell_type": "code",
   "execution_count": 13,
   "metadata": {},
   "outputs": [
    {
     "name": "stdout",
     "output_type": "stream",
     "text": [
      "The best score:  0.8462277331470486\n",
      "Best features:  ['person_age', 'person_home_ownership', 'person_emp_length', 'loan_percent_income', 'cb_person_cred_hist_length']\n"
     ]
    }
   ],
   "source": [
    "print(\"The best score: \", bestScore)\n",
    "print(\"Best features: \", BestFeatures)"
   ]
  },
  {
   "cell_type": "markdown",
   "metadata": {},
   "source": [
    "We can also do cross validation to see if there is any overfitting:"
   ]
  },
  {
   "cell_type": "code",
   "execution_count": 15,
   "metadata": {},
   "outputs": [
    {
     "data": {
      "text/plain": [
       "0.795973448332728"
      ]
     },
     "execution_count": 15,
     "metadata": {},
     "output_type": "execute_result"
    }
   ],
   "source": [
    "cross_val_scores = cross_val_score(LR, df_LR[features], df_LR['loan_status'], cv=5)\n",
    "#print((cv_scores_LR).mean())\n",
    "cross_val_scores.mean()"
   ]
  },
  {
   "cell_type": "markdown",
   "metadata": {},
   "source": [
    "Our cross validation mean gives us 80% accuracy with the best features being age, income, home ownership, loan intent and loan status.\n",
    "\n",
    "We need to train our model then get the weight vector:"
   ]
  },
  {
   "cell_type": "code",
   "execution_count": 56,
   "metadata": {},
   "outputs": [
    {
     "name": "stdout",
     "output_type": "stream",
     "text": [
      "[-8.07133566e-04  3.36542470e-01 -1.99919415e-02  7.93852091e+00\n",
      " -1.88709181e-03]\n"
     ]
    }
   ],
   "source": [
    "# train\n",
    "LR.fit(df_LR[BestFeatures], df_LR['loan_status'])\n",
    "\n",
    "#print weight vector for all features\n",
    "print(LR.coef_[0])"
   ]
  },
  {
   "cell_type": "markdown",
   "metadata": {},
   "source": [
    "# Finding a threshold\n",
    "\n",
    "We have trained a Logistic Regression model and have a weight vector, and now we need to find a suitable threshold which determines our target value — whether someone is likely to default on a loan.\n",
    "\n",
    "We have a couple assumptions to determine a bank's profit:\n",
    "\n",
    "If the loan is repaid in full, the profit for the bank is equal to loan_amnt*(1 + 0.25*loan_int_rate)**10 - loan_amnt\n",
    "OR\n",
    "If the borrower defaults on the loan, the “profit” for the bank is equal to loan_amnt*(1 + 0.25*loan_int_rate)**3 - 1.7*loan_amnt\n",
    "\n",
    "Since we need to find a feature that will pass this threshold, a good option is to calculate whether the probability of an individual pays their loans back passes the threshold. We can use the predict_proba function with our model and add it to our dataframe:\n",
    "\n",
    "A way to find an optimal threshold is to graph an expected gain."
   ]
  },
  {
   "cell_type": "code",
   "execution_count": 17,
   "metadata": {},
   "outputs": [],
   "source": [
    "proba_pay = LR.predict_proba(df_LR[BestFeatures]) # method courtesy of Mihir Singh\n",
    "df_LR['proba_pay'] = proba_pay[:,0].tolist()"
   ]
  },
  {
   "cell_type": "markdown",
   "metadata": {},
   "source": [
    "Now we can use expected gain to find the optimal threshold by graphing it based on the bank profit, using the two aforementioned assumptions/equations:"
   ]
  },
  {
   "cell_type": "code",
   "execution_count": 55,
   "metadata": {},
   "outputs": [],
   "source": [
    "def getProfit(t, df):\n",
    "\n",
    "    #new dataframe for any row that is above threshold\n",
    "    df_thresh = df_LR[df_LR['proba_pay'] > t].copy()\n",
    "\n",
    "    profit = 0\n",
    "    #default = 0\n",
    "\n",
    "    for i in range(len(df_thresh)):\n",
    "\n",
    "        # if NOT DEFAULTED\n",
    "        if df_thresh.iloc[i]['loan_status'] == 0:\n",
    "            profit += df_thresh.iloc[i]['loan_amnt'] * (1 + 0.25 *  (df_thresh.iloc[i]['loan_int_rate'] / 100))**10 - (df_thresh.iloc[i]['loan_amnt'])\n",
    "        else:\n",
    "            profit += df_thresh.iloc[i]['loan_amnt'] * (1 + 0.25 * (df_thresh.iloc[i]['loan_int_rate'] /100)) **3 - (1.7 * df_thresh.iloc[i]['loan_amnt']) \n",
    "    return profit"
   ]
  },
  {
   "cell_type": "code",
   "execution_count": 22,
   "metadata": {},
   "outputs": [
    {
     "data": {
      "image/png": "[encoded data removed]",
      "text/plain": [
       "<Figure size 1170x827 with 1 Axes>"
      ]
     },
     "metadata": {},
     "output_type": "display_data"
    },
    {
     "data": {
      "text/plain": [
       "<Figure size 1000x600 with 0 Axes>"
      ]
     },
     "metadata": {},
     "output_type": "display_data"
    }
   ],
   "source": [
    "thresholds = np.linspace(0, 1, 100)\n",
    "profits = []\n",
    "for t in thresholds:\n",
    "    profits.append(getProfit(t, df_LR))\n",
    "\n",
    "sns.set_theme(rc={'figure.figsize':(11.7,8.27)})\n",
    "plt.plot(thresholds, profits)\n",
    "plt.figure(figsize=(10, 6))\n",
    "plt.show()\n"
   ]
  },
  {
   "cell_type": "markdown",
   "metadata": {},
   "source": [
    "Our threshold for maximum profit converges at a highest point in between 0.4 and 0.5, and we can extract the exact value, the total profit at that threshold and the profit per borrower:"
   ]
  },
  {
   "cell_type": "code",
   "execution_count": 32,
   "metadata": {},
   "outputs": [
    {
     "name": "stdout",
     "output_type": "stream",
     "text": [
      "Max threshold:  0.53\n",
      "Max profit at ideal threshold: $32406222\n",
      "Profit per borrower: $1566.9562640408653\n"
     ]
    }
   ],
   "source": [
    "print(\"Max threshold: \", profits.index(max(profits)) / 100)\n",
    "print(f\"Max profit at ideal threshold: ${int(max(profits))}\")\n",
    "print(f\"Profit per borrower: ${max(profits) / len(df_LR[df_LR['proba_pay'] >= 0.53])}\")"
   ]
  },
  {
   "cell_type": "markdown",
   "metadata": {},
   "source": [
    "# Evaluating from bank's perspective\n",
    "\n",
    "Now that we have an optimal weight and threshold, we can explore the profit on some test data:"
   ]
  },
  {
   "cell_type": "code",
   "execution_count": 42,
   "metadata": {},
   "outputs": [],
   "source": [
    "# import data\n",
    "url = \"https://raw.githubusercontent.com/PhilChodrow/ml-notes/main/data/credit-risk/test.csv\"\n",
    "df_test_original = pd.read_csv(url)\n",
    "\n",
    "\n",
    "#clean up data\n",
    "df_test = df_test_original.copy()\n",
    "df_test.drop(columns = 'loan_grade', inplace = True)\n",
    "df_test = df_test[df_test['person_age'] != 144]\n",
    "\n",
    "\n",
    "# Like before, use Label Encoder so Logistic Regression can evaluate with numeric labels\n",
    "encoder = LabelEncoder()\n",
    "\n",
    "encoder.fit(df_test['cb_person_default_on_file'])\n",
    "df_test['cb_person_default_on_file'] = encoder.transform(df_test['cb_person_default_on_file'])\n",
    "\n",
    "encoder.fit(df_test['loan_intent'])\n",
    "df_test['loan_intent'] = encoder.transform(df_test['loan_intent'])\n",
    "\n",
    "encoder.fit(df_test['person_home_ownership'])\n",
    "df_test['person_home_ownership'] = encoder.transform(df_test['person_home_ownership'])\n",
    "\n",
    "\n",
    "\n",
    "df_test = df_test.dropna()\n",
    "df_test['person_emp_length'] = df_test['person_emp_length'].astype(int)\n",
    "\n"
   ]
  },
  {
   "cell_type": "markdown",
   "metadata": {},
   "source": [
    "Like before, we will create a new column to determine the probability that someone will pay based on the best features chosen when we compared the scores"
   ]
  },
  {
   "cell_type": "code",
   "execution_count": 58,
   "metadata": {},
   "outputs": [
    {
     "data": {
      "text/plain": [
       "['person_age',\n",
       " 'person_home_ownership',\n",
       " 'person_emp_length',\n",
       " 'loan_percent_income',\n",
       " 'cb_person_cred_hist_length']"
      ]
     },
     "execution_count": 58,
     "metadata": {},
     "output_type": "execute_result"
    }
   ],
   "source": [
    "BestFeatures"
   ]
  },
  {
   "cell_type": "code",
   "execution_count": 61,
   "metadata": {},
   "outputs": [
    {
     "name": "stdout",
     "output_type": "stream",
     "text": [
      "with a threshold of 0.53, the total bank profit: $32368726.934103493\n",
      "profit per borrower: $6309.693359474365\n"
     ]
    },
    {
     "data": {
      "text/html": [
       "<div>\n",
       "<style scoped>\n",
       "    .dataframe tbody tr th:only-of-type {\n",
       "        vertical-align: middle;\n",
       "    }\n",
       "\n",
       "    .dataframe tbody tr th {\n",
       "        vertical-align: top;\n",
       "    }\n",
       "\n",
       "    .dataframe thead th {\n",
       "        text-align: right;\n",
       "    }\n",
       "</style>\n",
       "<table border=\"1\" class=\"dataframe\">\n",
       "  <thead>\n",
       "    <tr style=\"text-align: right;\">\n",
       "      <th></th>\n",
       "      <th>person_age</th>\n",
       "      <th>person_income</th>\n",
       "      <th>person_home_ownership</th>\n",
       "      <th>person_emp_length</th>\n",
       "      <th>loan_intent</th>\n",
       "      <th>loan_amnt</th>\n",
       "      <th>loan_int_rate</th>\n",
       "      <th>loan_status</th>\n",
       "      <th>loan_percent_income</th>\n",
       "      <th>cb_person_default_on_file</th>\n",
       "      <th>cb_person_cred_hist_length</th>\n",
       "      <th>proba_pay</th>\n",
       "    </tr>\n",
       "  </thead>\n",
       "  <tbody>\n",
       "    <tr>\n",
       "      <th>0</th>\n",
       "      <td>21</td>\n",
       "      <td>42000</td>\n",
       "      <td>3</td>\n",
       "      <td>5</td>\n",
       "      <td>5</td>\n",
       "      <td>1000</td>\n",
       "      <td>15.58</td>\n",
       "      <td>1</td>\n",
       "      <td>0.02</td>\n",
       "      <td>0</td>\n",
       "      <td>4</td>\n",
       "      <td>0.907719</td>\n",
       "    </tr>\n",
       "    <tr>\n",
       "      <th>1</th>\n",
       "      <td>32</td>\n",
       "      <td>51000</td>\n",
       "      <td>0</td>\n",
       "      <td>2</td>\n",
       "      <td>0</td>\n",
       "      <td>15000</td>\n",
       "      <td>11.36</td>\n",
       "      <td>0</td>\n",
       "      <td>0.29</td>\n",
       "      <td>0</td>\n",
       "      <td>9</td>\n",
       "      <td>0.752253</td>\n",
       "    </tr>\n",
       "    <tr>\n",
       "      <th>2</th>\n",
       "      <td>35</td>\n",
       "      <td>54084</td>\n",
       "      <td>3</td>\n",
       "      <td>2</td>\n",
       "      <td>0</td>\n",
       "      <td>3000</td>\n",
       "      <td>12.61</td>\n",
       "      <td>0</td>\n",
       "      <td>0.06</td>\n",
       "      <td>0</td>\n",
       "      <td>6</td>\n",
       "      <td>0.872545</td>\n",
       "    </tr>\n",
       "    <tr>\n",
       "      <th>3</th>\n",
       "      <td>28</td>\n",
       "      <td>66300</td>\n",
       "      <td>0</td>\n",
       "      <td>11</td>\n",
       "      <td>3</td>\n",
       "      <td>12000</td>\n",
       "      <td>14.11</td>\n",
       "      <td>1</td>\n",
       "      <td>0.15</td>\n",
       "      <td>0</td>\n",
       "      <td>6</td>\n",
       "      <td>0.916299</td>\n",
       "    </tr>\n",
       "    <tr>\n",
       "      <th>4</th>\n",
       "      <td>22</td>\n",
       "      <td>70550</td>\n",
       "      <td>3</td>\n",
       "      <td>0</td>\n",
       "      <td>3</td>\n",
       "      <td>7000</td>\n",
       "      <td>15.88</td>\n",
       "      <td>1</td>\n",
       "      <td>0.08</td>\n",
       "      <td>0</td>\n",
       "      <td>3</td>\n",
       "      <td>0.846674</td>\n",
       "    </tr>\n",
       "  </tbody>\n",
       "</table>\n",
       "</div>"
      ],
      "text/plain": [
       "   person_age  person_income  person_home_ownership  person_emp_length  \\\n",
       "0          21          42000                      3                  5   \n",
       "1          32          51000                      0                  2   \n",
       "2          35          54084                      3                  2   \n",
       "3          28          66300                      0                 11   \n",
       "4          22          70550                      3                  0   \n",
       "\n",
       "   loan_intent  loan_amnt  loan_int_rate  loan_status  loan_percent_income  \\\n",
       "0            5       1000          15.58            1                 0.02   \n",
       "1            0      15000          11.36            0                 0.29   \n",
       "2            0       3000          12.61            0                 0.06   \n",
       "3            3      12000          14.11            1                 0.15   \n",
       "4            3       7000          15.88            1                 0.08   \n",
       "\n",
       "   cb_person_default_on_file  cb_person_cred_hist_length  proba_pay  \n",
       "0                          0                           4   0.907719  \n",
       "1                          0                           9   0.752253  \n",
       "2                          0                           6   0.872545  \n",
       "3                          0                           6   0.916299  \n",
       "4                          0                           3   0.846674  "
      ]
     },
     "execution_count": 61,
     "metadata": {},
     "output_type": "execute_result"
    }
   ],
   "source": [
    "proba_pay = LR.predict_proba(df_test[BestFeatures])\n",
    "df_test['proba_pay'] = proba_pay[:,0].tolist()\n",
    "\n",
    "#FIND PROFITS with our threshold of 0.53 and new dataframe\n",
    "test_profit = getProfit(0.53, df_test)\n",
    "\n",
    "print(f\"with a threshold of 0.53, the total bank profit: ${test_profit}\")\n",
    "print(f\"profit per borrower: ${test_profit / len(df_test[df_test['proba_pay'] >= 0.53])}\")\n",
    "\n",
    "df_test.head()\n",
    "\n",
    "\n"
   ]
  },
  {
   "cell_type": "code",
   "execution_count": null,
   "metadata": {},
   "outputs": [],
   "source": []
  },
  {
   "cell_type": "markdown",
   "metadata": {},
   "source": [
    "# Evaluating the model from the borrower's perspective\n",
    "\n",
    "Given the bank's perspective, its profit and profit per borrower, we can also use the data to explore the effects on the borrower.\n",
    "\n",
    "1. Firstly, we can examine how difficult it is for certain age groups to get access to credit. In order to do this, we can create a plot of the probability that each age group will pay.\n",
    "\n",
    "Like before, we also move ages into groups using quartiles:"
   ]
  },
  {
   "cell_type": "code",
   "execution_count": 74,
   "metadata": {},
   "outputs": [
    {
     "name": "stderr",
     "output_type": "stream",
     "text": [
      "/Users/jakegilbert/anaconda3/envs/ml-0451/lib/python3.9/site-packages/seaborn/categorical.py:641: FutureWarning: The default of observed=False is deprecated and will be changed to True in a future version of pandas. Pass observed=False to retain current behavior or observed=True to adopt the future default and silence this warning.\n",
      "  grouped_vals = vals.groupby(grouper)\n"
     ]
    },
    {
     "data": {
      "text/plain": [
       "Text(0, 0.5, 'Probability of paying')"
      ]
     },
     "execution_count": 74,
     "metadata": {},
     "output_type": "execute_result"
    },
    {
     "data": {
      "image/png": "[encoded data removed]",
      "text/plain": [
       "<Figure size 1170x827 with 1 Axes>"
      ]
     },
     "metadata": {},
     "output_type": "display_data"
    }
   ],
   "source": [
    "# group individuals into quartiles by age\n",
    "quartiles = df_test['person_age'].quantile([0.25, 0.5, 0.75])\n",
    "\n",
    "q1 = f\"{df_test['person_age'].min()} to {quartiles[0.25]}\"\n",
    "q2 = f\"{quartiles[0.25]} to {quartiles[0.50]}\"\n",
    "q3 = f\"{quartiles[0.50]} to {quartiles[0.75]}\"\n",
    "q4 = f\"{quartiles[0.75]} to {df_test['person_age'].max()}\"\n",
    "\n",
    "# separate individuals into quartiles\n",
    "df_test['age_groups'] = pd.qcut(df_test['person_age'], q = [0, 0.25, 0.5, 0.75, 1], labels = [q1, q2, q3, q4])\n",
    "\n",
    "# plot\n",
    "sns.boxplot(x=df_test['age_groups'], y=df_test['proba_pay'])\n",
    "plt.title('Which age groups have the most access to credit')\n",
    "plt.ylabel('Probability of paying')"
   ]
  },
  {
   "cell_type": "markdown",
   "metadata": {},
   "source": [
    "Based on our plot, it seems that younger people are more likely to be denied credit and therefore have less access. After the youngest group, there is little difference between ages 23 and older.\n",
    "\n",
    "2. Next we will look at the difficulty of getting loans for medical expenses compared to other reasons, including business or education.\n",
    "\n",
    "For this, we will decode the loan intent and group by each loan intent label to see loan status and the rate of acceptance given the Logistic Regression probability"
   ]
  },
  {
   "cell_type": "code",
   "execution_count": 73,
   "metadata": {},
   "outputs": [
    {
     "data": {
      "text/html": [
       "<div>\n",
       "<style scoped>\n",
       "    .dataframe tbody tr th:only-of-type {\n",
       "        vertical-align: middle;\n",
       "    }\n",
       "\n",
       "    .dataframe tbody tr th {\n",
       "        vertical-align: top;\n",
       "    }\n",
       "\n",
       "    .dataframe thead th {\n",
       "        text-align: right;\n",
       "    }\n",
       "</style>\n",
       "<table border=\"1\" class=\"dataframe\">\n",
       "  <thead>\n",
       "    <tr style=\"text-align: right;\">\n",
       "      <th></th>\n",
       "      <th>loans approved</th>\n",
       "      <th>loans repaid</th>\n",
       "    </tr>\n",
       "    <tr>\n",
       "      <th>loan_intent</th>\n",
       "      <th></th>\n",
       "      <th></th>\n",
       "    </tr>\n",
       "  </thead>\n",
       "  <tbody>\n",
       "    <tr>\n",
       "      <th>DEBTCONSOLIDATION</th>\n",
       "      <td>0.884956</td>\n",
       "      <td>0.712389</td>\n",
       "    </tr>\n",
       "    <tr>\n",
       "      <th>EDUCATION</th>\n",
       "      <td>0.897109</td>\n",
       "      <td>0.832483</td>\n",
       "    </tr>\n",
       "    <tr>\n",
       "      <th>HOMEIMPROVEMENT</th>\n",
       "      <td>0.933442</td>\n",
       "      <td>0.750000</td>\n",
       "    </tr>\n",
       "    <tr>\n",
       "      <th>MEDICAL</th>\n",
       "      <td>0.876048</td>\n",
       "      <td>0.715750</td>\n",
       "    </tr>\n",
       "    <tr>\n",
       "      <th>PERSONAL</th>\n",
       "      <td>0.890782</td>\n",
       "      <td>0.779559</td>\n",
       "    </tr>\n",
       "    <tr>\n",
       "      <th>VENTURE</th>\n",
       "      <td>0.903527</td>\n",
       "      <td>0.853734</td>\n",
       "    </tr>\n",
       "  </tbody>\n",
       "</table>\n",
       "</div>"
      ],
      "text/plain": [
       "                   loans approved  loans repaid\n",
       "loan_intent                                    \n",
       "DEBTCONSOLIDATION        0.884956      0.712389\n",
       "EDUCATION                0.897109      0.832483\n",
       "HOMEIMPROVEMENT          0.933442      0.750000\n",
       "MEDICAL                  0.876048      0.715750\n",
       "PERSONAL                 0.890782      0.779559\n",
       "VENTURE                  0.903527      0.853734"
      ]
     },
     "execution_count": 73,
     "metadata": {},
     "output_type": "execute_result"
    }
   ],
   "source": [
    "df_medical = df_test.copy()\n",
    "df_medical['loan_intent'] = df_test_original['loan_intent']\n",
    "\n",
    "# make new column for all those who are accepted for loans based on if they pass the threshold\n",
    "df_medical['get_loans'] = df_medical['proba_pay'] > 0.53\n",
    "get_loans = df_medical.groupby('loan_intent')['get_loans'].mean()\n",
    "\n",
    "# another column based on actual loan status (did they default or repay)\n",
    "df_medical['repay_loans'] = df_medical['loan_status'] == 0\n",
    "repay = df_medical.groupby('loan_intent')['repay_loans'].mean()\n",
    "\n",
    "\n",
    "pd.DataFrame({'loans approved': get_loans, 'loans repaid': repay})"
   ]
  },
  {
   "cell_type": "markdown",
   "metadata": {},
   "source": [
    "Out of all of the intents, medical loans have the least likelihood to get approved, whereas home improvement is the highest. While the difference is not drastic, medical loans are noticeably more likely to default—along with dept consolidation—compared to other loans. This may be due to the fact that medical loans and debt consolidation are done out of necessity and often lead to default more often, so they are harder to access.\n",
    "\n",
    "3. The last experiment is to see how a person's income level can affect how much they have access to credit given out model.\n",
    "\n",
    "Similar to ages, we will use quartiles to group into 4 income categories then make a box plot:\n",
    "\n"
   ]
  },
  {
   "cell_type": "code",
   "execution_count": 76,
   "metadata": {},
   "outputs": [
    {
     "name": "stderr",
     "output_type": "stream",
     "text": [
      "/Users/jakegilbert/anaconda3/envs/ml-0451/lib/python3.9/site-packages/seaborn/categorical.py:641: FutureWarning: The default of observed=False is deprecated and will be changed to True in a future version of pandas. Pass observed=False to retain current behavior or observed=True to adopt the future default and silence this warning.\n",
      "  grouped_vals = vals.groupby(grouper)\n"
     ]
    },
    {
     "data": {
      "text/plain": [
       "Text(0, 0.5, 'Access to credit')"
      ]
     },
     "execution_count": 76,
     "metadata": {},
     "output_type": "execute_result"
    },
    {
     "data": {
      "image/png": "[encoded data removed]",
      "text/plain": [
       "<Figure size 1170x827 with 1 Axes>"
      ]
     },
     "metadata": {},
     "output_type": "display_data"
    }
   ],
   "source": [
    "quartiles = df_test['person_income'].quantile([0.25, 0.5, 0.75])\n",
    "\n",
    "q1 = f\"{df_test['person_income'].min()} to {quartiles[0.25]}\"\n",
    "q2 = f\"{quartiles[0.25]} to {quartiles[0.50]}\"\n",
    "q3 = f\"{quartiles[0.50]} to {quartiles[0.75]}\"\n",
    "q4 = f\"{quartiles[0.75]} to {df_test['person_income'].max()}\"\n",
    "df_test['income_groups'] = pd.qcut(df_test['person_income'], q = [0, 0.25, 0.5, 0.75, 1], labels = [q1, q2, q3, q4])\n",
    "\n",
    "# plot\n",
    "sns.boxplot(x=df_test['income_groups'], y=df_test['proba_pay'])\n",
    "plt.title('Income groups and Access to Credit')\n",
    "plt.ylabel('Access to credit')"
   ]
  },
  {
   "cell_type": "markdown",
   "metadata": {},
   "source": [
    "We can see there is a gradual but noticeable trend of access to credit for higher income groups. Those with money already available to spend can afford to take the risk of paying out later."
   ]
  },
  {
   "cell_type": "markdown",
   "metadata": {},
   "source": [
    "# Discussion\n",
    "\n",
    "In the end, by training our model, we were able to determine on the test set that the optimal threshold score is 0.53, and that the bank's optimal profit is $32,368,726, given the risk of default. One fundamental question to address given the exploration is how fair this system of loans is or if it perpetuates existing systems of class oppression and income inequality. Looking at our 2nd exploration of the borrow's perspective, medical loans are much harder to access. On the surface, this makes sense because they are usually at risk of default more than other loans. However, in the following exploration, we were clearly able to see how access to credit  benefited the wealthy and groups with higher income than lower income groups. This means that not all groups are affected equally in this disparity for medical loans. Certain systems that seem \"fair\" and based off of a blanket meritocracy sometimes underneath are only perpetuating systems that benefit the already powerful. For medical loans, it is never the borrowers \"fault\" that they got hurt, but are often punished in the process, yet from the bank's perspective, the only loss is profit. At a narrow view of fairness, this system makes sense, where these systems are merely a side effect of given trends. A wider view of fairness would tell us it would benefit us to try to see the benefits of changing our loan systems from reasons that are born out of fairness, not profit incentive.\n",
    "\n",
    "In the end, the loans that are the riskiest are often the ones that are the most needed and vital for the wellbeing of people. In this case, I don't think this system is fair—it punishes those who are already at a disadvantage."
   ]
  },
  {
   "cell_type": "markdown",
   "metadata": {},
   "source": []
  }
 ],
 "metadata": {
  "kernelspec": {
   "display_name": "Python 3 (ipykernel)",
   "language": "python",
   "name": "python3"
  },
  "language_info": {
   "codemirror_mode": {
    "name": "ipython",
    "version": 3
   },
   "file_extension": ".py",
   "mimetype": "text/x-python",
   "name": "python",
   "nbconvert_exporter": "python",
   "pygments_lexer": "ipython3",
   "version": "3.9.18"
  },
  "vscode": {
   "interpreter": {
    "hash": "debe06cc0f9553f110b64dc3926c05df82dae2145b852c8422b9c04315589dcb"
   }
  }
 },
 "nbformat": 4,
 "nbformat_minor": 4
}
